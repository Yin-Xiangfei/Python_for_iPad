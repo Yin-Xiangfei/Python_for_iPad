print('我爱爽宝宝！')
